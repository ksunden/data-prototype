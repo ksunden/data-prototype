{
  "cells": [
    {
      "cell_type": "code",
      "execution_count": null,
      "metadata": {
        "collapsed": false
      },
      "outputs": [],
      "source": [
        "%matplotlib inline"
      ]
    },
    {
      "cell_type": "markdown",
      "metadata": {},
      "source": [
        "\n# A functional 2D image\n"
      ]
    },
    {
      "cell_type": "code",
      "execution_count": null,
      "metadata": {
        "collapsed": false
      },
      "outputs": [],
      "source": [
        "import matplotlib.pyplot as plt\nimport numpy as np\n\nfrom data_prototype.wrappers import ImageWrapper\nfrom data_prototype.containers import FuncContainer\n\nfrom matplotlib.colors import Normalize\n\nfc = FuncContainer(\n    {},\n    xyfuncs={\n        \"xextent\": ((2,), lambda x, y: [x[0], x[-1]]),\n        \"yextent\": ((2,), lambda x, y: [y[0], y[-1]]),\n        \"image\": ((\"N\", \"M\"), lambda x, y: np.sin(x).reshape(1, -1) * np.cos(y).reshape(-1, 1)),\n    },\n)\nim = ImageWrapper(fc, norm=Normalize(-1, 1))\n\nfig, ax = plt.subplots()\nax.add_artist(im)\nax.set_xlim(-5, 5)\nax.set_ylim(-5, 5)\nfig.colorbar(im)\nplt.show()"
      ]
    }
  ],
  "metadata": {
    "kernelspec": {
      "display_name": "Python 3",
      "language": "python",
      "name": "python3"
    },
    "language_info": {
      "codemirror_mode": {
        "name": "ipython",
        "version": 3
      },
      "file_extension": ".py",
      "mimetype": "text/x-python",
      "name": "python",
      "nbconvert_exporter": "python",
      "pygments_lexer": "ipython3",
      "version": "3.10.8"
    }
  },
  "nbformat": 4,
  "nbformat_minor": 0
}