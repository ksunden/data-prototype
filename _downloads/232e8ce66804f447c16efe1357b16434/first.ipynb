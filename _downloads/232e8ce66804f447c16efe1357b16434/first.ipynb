{
  "cells": [
    {
      "cell_type": "code",
      "execution_count": null,
      "metadata": {
        "collapsed": false
      },
      "outputs": [],
      "source": [
        "%matplotlib inline"
      ]
    },
    {
      "cell_type": "markdown",
      "metadata": {},
      "source": [
        "\n# A functional line\n\nThe hello-world\n"
      ]
    },
    {
      "cell_type": "code",
      "execution_count": null,
      "metadata": {
        "collapsed": false
      },
      "outputs": [],
      "source": [
        "import matplotlib.pyplot as plt\nimport numpy as np\nimport pandas as pd\n\nfrom data_prototype.wrappers import LineWrapper\nfrom data_prototype.containers import FuncContainer, SeriesContainer\n\nfc = FuncContainer({\"x\": ((\"N\",), lambda x: x), \"y\": ((\"N\",), np.sin)})\nlw = LineWrapper(fc, lw=5, color=\"green\", label=\"sin (function)\")\n\nth = np.linspace(0, 2 * np.pi, 16)\nsc = SeriesContainer(pd.Series(index=th, data=np.cos(th)), index_name=\"x\", col_name=\"y\")\nlw2 = LineWrapper(sc, lw=3, color=\"blue\", label=\"cos (pandas)\")\n\nfig, ax = plt.subplots()\nax.add_artist(lw)\nax.add_artist(lw2)\nax.set_xlim(0, np.pi * 4)\nax.set_ylim(-1.1, 1.1)\n\nplt.show()"
      ]
    }
  ],
  "metadata": {
    "kernelspec": {
      "display_name": "Python 3",
      "language": "python",
      "name": "python3"
    },
    "language_info": {
      "codemirror_mode": {
        "name": "ipython",
        "version": 3
      },
      "file_extension": ".py",
      "mimetype": "text/x-python",
      "name": "python",
      "nbconvert_exporter": "python",
      "pygments_lexer": "ipython3",
      "version": "3.10.8"
    }
  },
  "nbformat": 4,
  "nbformat_minor": 0
}