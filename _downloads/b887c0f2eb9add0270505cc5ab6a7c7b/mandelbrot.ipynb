{
  "cells": [
    {
      "cell_type": "code",
      "execution_count": null,
      "metadata": {
        "collapsed": false
      },
      "outputs": [],
      "source": [
        "%matplotlib inline"
      ]
    },
    {
      "cell_type": "markdown",
      "metadata": {},
      "source": [
        "\n# (Infinitly) Zoomable Mandelbrot Set\n"
      ]
    },
    {
      "cell_type": "code",
      "execution_count": null,
      "metadata": {
        "collapsed": false
      },
      "outputs": [],
      "source": [
        "import matplotlib.pyplot as plt\nimport numpy as np\n\nfrom data_prototype.wrappers import ImageWrapper\nfrom data_prototype.containers import FuncContainer\n\nfrom matplotlib.colors import Normalize\n\nmaxiter = 75\n\n\ndef mandelbrot_set(X, Y, maxiter, *, horizon=3, power=2):\n    C = X + Y[:, None] * 1j\n    N = np.zeros_like(C, dtype=int)\n    Z = np.zeros_like(C)\n    for n in range(maxiter):\n        I = abs(Z) < horizon\n        N += I\n        Z[I] = Z[I] ** power + C[I]\n    N[N == maxiter] = -1\n    return Z, N\n\n\nfc = FuncContainer(\n    {},\n    xyfuncs={\n        \"xextent\": ((2,), lambda x, y: [x[0], x[-1]]),\n        \"yextent\": ((2,), lambda x, y: [y[0], y[-1]]),\n        \"image\": ((\"N\", \"M\"), lambda x, y: mandelbrot_set(x, y, maxiter)[1]),\n    },\n)\ncmap = plt.get_cmap()\ncmap.set_under(\"w\")\nim = ImageWrapper(fc, norm=Normalize(0, maxiter), cmap=cmap)\n\nfig, ax = plt.subplots()\nax.add_artist(im)\nax.set_xlim(-1, 1)\nax.set_ylim(-1, 1)\nax.set_aspect(\"equal\")\nfig.colorbar(im)\nplt.show()"
      ]
    }
  ],
  "metadata": {
    "kernelspec": {
      "display_name": "Python 3",
      "language": "python",
      "name": "python3"
    },
    "language_info": {
      "codemirror_mode": {
        "name": "ipython",
        "version": 3
      },
      "file_extension": ".py",
      "mimetype": "text/x-python",
      "name": "python",
      "nbconvert_exporter": "python",
      "pygments_lexer": "ipython3",
      "version": "3.10.8"
    }
  },
  "nbformat": 4,
  "nbformat_minor": 0
}