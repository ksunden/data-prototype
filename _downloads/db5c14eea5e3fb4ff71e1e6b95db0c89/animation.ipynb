{
  "cells": [
    {
      "cell_type": "code",
      "execution_count": null,
      "metadata": {
        "collapsed": false
      },
      "outputs": [],
      "source": [
        "%matplotlib inline"
      ]
    },
    {
      "cell_type": "markdown",
      "metadata": {},
      "source": [
        "\n# An animated line\n"
      ]
    },
    {
      "cell_type": "code",
      "execution_count": null,
      "metadata": {
        "collapsed": false
      },
      "outputs": [],
      "source": [
        "import time\nfrom typing import Dict, Tuple, Any, Union\nfrom functools import partial\n\nimport numpy as np\n\nimport matplotlib.pyplot as plt\nfrom matplotlib.animation import FuncAnimation\n\nfrom data_prototype.containers import _Transform, Desc\n\nfrom data_prototype.wrappers import LineWrapper, FormatedText\n\n\nclass SinOfTime:\n    N = 1024\n    # cycles per minutes\n    scale = 10\n\n    def describe(self):\n        return {\n            \"x\": Desc([self.N], float),\n            \"y\": Desc([self.N], float),\n            \"phase\": Desc([], float),\n            \"time\": Desc([], float),\n        }\n\n    def query(\n        self,\n        transform: _Transform,\n        size: Tuple[int, int],\n    ) -> Tuple[Dict[str, Any], Union[str, int]]:\n        th = np.linspace(0, 2 * np.pi, self.N)\n\n        def next_time():\n            cur_time = time.time()\n\n            phase = 2 * np.pi * (self.scale * cur_time % 60) / 60\n            return {\n                \"x\": th,\n                \"y\": np.sin(th + phase),\n                \"phase\": phase,\n                \"time\": cur_time,\n            }, hash(cur_time)\n\n        return next_time()\n\n\ndef update(frame, art):\n    return art\n\n\nsot_c = SinOfTime()\nlw = LineWrapper(sot_c, lw=5, color=\"green\", label=\"sin(time)\")\nfc = FormatedText(\n    sot_c,\n    \"\u03d5={phase:.2f}  \".format,\n    x=2 * np.pi,\n    y=1,\n    ha=\"right\",\n)\nfig, ax = plt.subplots()\nax.add_artist(lw)\nax.add_artist(fc)\nax.set_xlim(0, 2 * np.pi)\nax.set_ylim(-1.1, 1.1)\nani = FuncAnimation(\n    fig,\n    partial(update, art=(lw, fc)),\n    frames=25,\n    interval=1000 / 60,\n    # TODO: blitting does not work because wrappers do not inherent from Artist\n    # blit=True,\n)\n\nplt.show()"
      ]
    }
  ],
  "metadata": {
    "kernelspec": {
      "display_name": "Python 3",
      "language": "python",
      "name": "python3"
    },
    "language_info": {
      "codemirror_mode": {
        "name": "ipython",
        "version": 3
      },
      "file_extension": ".py",
      "mimetype": "text/x-python",
      "name": "python",
      "nbconvert_exporter": "python",
      "pygments_lexer": "ipython3",
      "version": "3.10.8"
    }
  },
  "nbformat": 4,
  "nbformat_minor": 0
}