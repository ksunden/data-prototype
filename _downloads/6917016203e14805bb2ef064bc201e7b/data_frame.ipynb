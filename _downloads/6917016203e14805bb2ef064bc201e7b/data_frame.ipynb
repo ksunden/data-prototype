{
  "cells": [
    {
      "cell_type": "code",
      "execution_count": null,
      "metadata": {
        "collapsed": false
      },
      "outputs": [],
      "source": [
        "%matplotlib inline"
      ]
    },
    {
      "cell_type": "markdown",
      "metadata": {},
      "source": [
        "\n# Show data frame\n\nThe hello-world\n"
      ]
    },
    {
      "cell_type": "code",
      "execution_count": null,
      "metadata": {
        "collapsed": false
      },
      "outputs": [],
      "source": [
        "import matplotlib.pyplot as plt\nimport numpy as np\nimport pandas as pd\n\nfrom data_prototype.wrappers import LineWrapper\nfrom data_prototype.containers import DataFrameContainer\n\nth = np.linspace(0, 4 * np.pi, 256)\n\ndc1 = DataFrameContainer(pd.DataFrame({\"x\": th, \"y\": np.cos(th)}), index_name=None, col_names=lambda n: n)\n\ndf = pd.DataFrame(\n    {\n        \"cos\": np.cos(th),\n        \"sin\": np.sin(th),\n    },\n    index=th,\n)\n\n\ndc2 = DataFrameContainer(df, index_name=\"x\", col_names={\"sin\": \"y\"})\ndc3 = DataFrameContainer(df, index_name=\"x\", col_names={\"cos\": \"y\"})\n\n\nfig, (ax1, ax2) = plt.subplots(2, 1)\nax1.add_artist(LineWrapper(dc1, lw=5, color=\"green\", label=\"sin\"))\nax2.add_artist(LineWrapper(dc2, lw=5, color=\"green\", label=\"sin\"))\nax2.add_artist(LineWrapper(dc3, lw=5, color=\"blue\", label=\"cos\"))\nfor ax in (ax1, ax2):\n    ax.set_xlim(0, np.pi * 4)\n    ax.set_ylim(-1.1, 1.1)\n\nplt.show()"
      ]
    }
  ],
  "metadata": {
    "kernelspec": {
      "display_name": "Python 3",
      "language": "python",
      "name": "python3"
    },
    "language_info": {
      "codemirror_mode": {
        "name": "ipython",
        "version": 3
      },
      "file_extension": ".py",
      "mimetype": "text/x-python",
      "name": "python",
      "nbconvert_exporter": "python",
      "pygments_lexer": "ipython3",
      "version": "3.10.8"
    }
  },
  "nbformat": 4,
  "nbformat_minor": 0
}